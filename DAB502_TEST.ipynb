{
  "nbformat": 4,
  "nbformat_minor": 0,
  "metadata": {
    "colab": {
      "provenance": []
    },
    "kernelspec": {
      "name": "python3",
      "display_name": "Python 3"
    },
    "language_info": {
      "name": "python"
    }
  },
  "cells": [
    {
      "cell_type": "markdown",
      "source": [
        "# Q1 Bayesian Probability"
      ],
      "metadata": {
        "id": "6vl5Jn-6hU7q"
      }
    },
    {
      "cell_type": "code",
      "source": [
        "P_S = 0.8\n",
        "P_B_S = .96\n",
        "P_B_NS = 0.05\n",
        "\n",
        "P_B_S * P_S / ( P_B_S * P_S + P_B_NS * ( 1 - P_S ) )"
      ],
      "metadata": {
        "colab": {
          "base_uri": "https://localhost:8080/"
        },
        "id": "yiFCephShgSY",
        "outputId": "aa6e525f-b074-4fdc-fee1-7b79868d655f"
      },
      "execution_count": null,
      "outputs": [
        {
          "output_type": "execute_result",
          "data": {
            "text/plain": [
              "0.987146529562982"
            ]
          },
          "metadata": {},
          "execution_count": 13
        }
      ]
    },
    {
      "cell_type": "markdown",
      "source": [
        "# Q2 Poisson Distribution\n",
        "\n"
      ],
      "metadata": {
        "id": "OCRfi6t3592E"
      }
    },
    {
      "cell_type": "code",
      "execution_count": null,
      "metadata": {
        "id": "YU1XaGHQz7da",
        "colab": {
          "base_uri": "https://localhost:8080/"
        },
        "outputId": "1701b7ea-d110-448a-90ca-84b3e65b45d7"
      },
      "outputs": [
        {
          "output_type": "execute_result",
          "data": {
            "text/plain": [
              "0.005309654609591416"
            ]
          },
          "metadata": {},
          "execution_count": 3
        }
      ],
      "source": [
        "from scipy.stats import poisson\n",
        "\n",
        "k=4\n",
        "Lambda = (5/7)\n",
        "poisson.pmf(k, Lambda)"
      ]
    },
    {
      "cell_type": "markdown",
      "source": [
        "# Q3 Confidence Interval"
      ],
      "metadata": {
        "id": "gL2NwCVefIwo"
      }
    },
    {
      "cell_type": "code",
      "source": [
        "import numpy as np\n",
        "from scipy import stats\n",
        "\n",
        "n=603\n",
        "visit = 142\n",
        "ci = 0.95\n",
        "\n",
        "p = visit/n\n",
        "print(p)\n",
        "\n",
        "success = n*p\n",
        "print (success)\n",
        "\n",
        "failure = n * (1-p)\n",
        "print(failure)\n",
        "\n",
        "se = np.sqrt((p*(1-p))/n)\n",
        "print (se)\n",
        "\n",
        "stats.norm.interval(ci, p, se)"
      ],
      "metadata": {
        "colab": {
          "base_uri": "https://localhost:8080/"
        },
        "id": "FKVVp095fMOf",
        "outputId": "1efe5344-83e0-4a7a-978e-652bfcdd2a78"
      },
      "execution_count": null,
      "outputs": [
        {
          "output_type": "stream",
          "name": "stdout",
          "text": [
            "0.23548922056384744\n",
            "142.0\n",
            "461.0\n",
            "0.01727900246846652\n"
          ]
        },
        {
          "output_type": "execute_result",
          "data": {
            "text/plain": [
              "(0.20162299803687436, 0.2693554430908205)"
            ]
          },
          "metadata": {},
          "execution_count": 2
        }
      ]
    },
    {
      "cell_type": "code",
      "source": [
        "n=603\n",
        "visit = 142\n",
        "\n",
        "p = visit/n\n",
        "print(p)\n",
        "\n",
        "z = 1.96\n",
        "se = np.sqrt((p*(1-p))/n)\n",
        "print(se)\n",
        "\n",
        "me = se * z * 603\n",
        "\n",
        "lower_limit = visit -me\n",
        "upper_limit = visit + me\n",
        "\n",
        "print (lower_limit, upper_limit)"
      ],
      "metadata": {
        "colab": {
          "base_uri": "https://localhost:8080/"
        },
        "id": "-4ZrHuflfU-7",
        "outputId": "fb4a3090-1cf8-48c3-84a5-d99917c7ae86"
      },
      "execution_count": null,
      "outputs": [
        {
          "output_type": "stream",
          "name": "stdout",
          "text": [
            "0.23548922056384744\n",
            "0.01727900246846652\n",
            "121.57829256256879 162.42170743743122\n"
          ]
        }
      ]
    },
    {
      "cell_type": "markdown",
      "source": [
        "# Q4 – Normal Distribution"
      ],
      "metadata": {
        "id": "Qg6i7p8S7mmB"
      }
    },
    {
      "cell_type": "code",
      "source": [
        "from scipy.stats import norm\n",
        "Z_a= -1.45\n",
        "percent_a = norm.cdf(Z_a) * 100\n",
        "print(percent_a)\n",
        "\n",
        "from scipy.stats import norm\n",
        "Z_b= 1.18\n",
        "percent_b =(1 - norm.cdf(Z_b)) * 100\n",
        "print(percent_b)\n",
        "\n",
        "from scipy.stats import norm\n",
        "\n",
        "Z_lower = -0.4\n",
        "Z_upper = 2.1\n",
        "percent_c =(norm.cdf(Z_upper) - norm.cdf(Z_lower))*100\n",
        "print(percent_c)"
      ],
      "metadata": {
        "colab": {
          "base_uri": "https://localhost:8080/"
        },
        "id": "-k2OwW2A59Vq",
        "outputId": "94236414-6ad0-4803-de14-8fa8f63c96c7"
      },
      "execution_count": null,
      "outputs": [
        {
          "output_type": "stream",
          "name": "stdout",
          "text": [
            "7.352925960964836\n",
            "11.900010745520074\n",
            "63.75573210475076\n"
          ]
        }
      ]
    },
    {
      "cell_type": "code",
      "source": [
        "from scipy.stats import norm\n",
        "Z_b= 1.18\n",
        "norm.sf(Z_b)\n",
        "print(percent_b)"
      ],
      "metadata": {
        "colab": {
          "base_uri": "https://localhost:8080/"
        },
        "id": "ju3fdpDeOMQF",
        "outputId": "940dcec3-7f73-4eec-ef95-19fde88c6a17"
      },
      "execution_count": null,
      "outputs": [
        {
          "output_type": "stream",
          "name": "stdout",
          "text": [
            "11.900010745520074\n"
          ]
        }
      ]
    },
    {
      "cell_type": "code",
      "source": [
        "norm.sf(0)"
      ],
      "metadata": {
        "colab": {
          "base_uri": "https://localhost:8080/"
        },
        "id": "d95msHRcOavQ",
        "outputId": "a2cb2674-0d44-46b5-ffa5-632b9d787add"
      },
      "execution_count": null,
      "outputs": [
        {
          "output_type": "execute_result",
          "data": {
            "text/plain": [
              "0.5"
            ]
          },
          "metadata": {},
          "execution_count": 15
        }
      ]
    },
    {
      "cell_type": "code",
      "source": [
        "norm.sf(-3)"
      ],
      "metadata": {
        "colab": {
          "base_uri": "https://localhost:8080/"
        },
        "id": "3HfAUrknOiPA",
        "outputId": "0a2e0269-e07a-40f6-b897-51c053016b73"
      },
      "execution_count": null,
      "outputs": [
        {
          "output_type": "execute_result",
          "data": {
            "text/plain": [
              "0.9986501019683699"
            ]
          },
          "metadata": {},
          "execution_count": 17
        }
      ]
    },
    {
      "cell_type": "code",
      "source": [
        "norm.cdf(-3)"
      ],
      "metadata": {
        "colab": {
          "base_uri": "https://localhost:8080/"
        },
        "id": "xk6anyDeOqnT",
        "outputId": "697a2f3f-fbe4-4d08-90ff-317327e6993b"
      },
      "execution_count": null,
      "outputs": [
        {
          "output_type": "execute_result",
          "data": {
            "text/plain": [
              "0.0013498980316300933"
            ]
          },
          "metadata": {},
          "execution_count": 19
        }
      ]
    },
    {
      "cell_type": "markdown",
      "source": [
        "# Q5 – Geometric Distribution"
      ],
      "metadata": {
        "id": "O0AOauvn8bgz"
      }
    },
    {
      "cell_type": "code",
      "source": [
        "from scipy.stats import geom\n",
        "\n",
        "p = 0.15\n",
        "n = 12\n",
        "\n",
        "geom.pmf(n,p)"
      ],
      "metadata": {
        "colab": {
          "base_uri": "https://localhost:8080/"
        },
        "id": "9FngmzqR8x1k",
        "outputId": "69407fa3-c802-45c6-c071-3e55091421b2"
      },
      "execution_count": null,
      "outputs": [
        {
          "output_type": "execute_result",
          "data": {
            "text/plain": [
              "0.025101486553442128"
            ]
          },
          "metadata": {},
          "execution_count": 8
        }
      ]
    },
    {
      "cell_type": "code",
      "source": [
        "import numpy as np\n",
        "\n",
        "p =0.15\n",
        "n=12\n",
        "\n",
        "p * np.power(1-p, n-1)"
      ],
      "metadata": {
        "colab": {
          "base_uri": "https://localhost:8080/"
        },
        "id": "h3CKqqoOg9HM",
        "outputId": "15170d39-5045-44c8-a124-61b65fce4992"
      },
      "execution_count": null,
      "outputs": [
        {
          "output_type": "execute_result",
          "data": {
            "text/plain": [
              "0.025101486553442128"
            ]
          },
          "metadata": {},
          "execution_count": 12
        }
      ]
    },
    {
      "cell_type": "code",
      "source": [
        "import numpy as np\n",
        "\n",
        "# P(success on the nth trial) = p * (1- p)^(n-1)\n",
        "result = p * np.power((1-p), (n-1))\n",
        "print(f'P(success on the 12th trial): {result: .2%}')"
      ],
      "metadata": {
        "colab": {
          "base_uri": "https://localhost:8080/"
        },
        "id": "WavzA4Q6iUsx",
        "outputId": "9f07a830-61fa-4741-c6c6-756cf8fa1c11"
      },
      "execution_count": null,
      "outputs": [
        {
          "output_type": "stream",
          "name": "stdout",
          "text": [
            "P(success on the 12th trial):  2.51%\n"
          ]
        }
      ]
    },
    {
      "cell_type": "markdown",
      "source": [
        "#  Q6 – Negative Binomial Distribution"
      ],
      "metadata": {
        "id": "DAxDBiZb-s8u"
      }
    },
    {
      "cell_type": "code",
      "source": [
        "from scipy.stats import nbinom\n",
        "n = 10\n",
        "k = 3\n",
        "f = n-k\n",
        "p = 0.15\n",
        "nbinom.pmf(f,k,p)"
      ],
      "metadata": {
        "colab": {
          "base_uri": "https://localhost:8080/"
        },
        "id": "GrjKENa4P6ej",
        "outputId": "4434f786-ebd2-40eb-b283-8908755520e2"
      },
      "execution_count": null,
      "outputs": [
        {
          "output_type": "execute_result",
          "data": {
            "text/plain": [
              "0.038950116226171845"
            ]
          },
          "metadata": {},
          "execution_count": 27
        }
      ]
    },
    {
      "cell_type": "code",
      "source": [
        "import numpy as np\n",
        "from scipy.special import comb\n",
        "\n",
        "p=0.15\n",
        "n=10\n",
        "k=3\n",
        "\n",
        "comb(n-1,k-1) * np.power(p,k) * np.power((1-p),(n-k))"
      ],
      "metadata": {
        "colab": {
          "base_uri": "https://localhost:8080/"
        },
        "id": "0FV6BZFSSjR6",
        "outputId": "4b0f7db1-01d8-432e-d158-5037fd47c72a"
      },
      "execution_count": null,
      "outputs": [
        {
          "output_type": "execute_result",
          "data": {
            "text/plain": [
              "0.03895011622617186"
            ]
          },
          "metadata": {},
          "execution_count": 28
        }
      ]
    },
    {
      "cell_type": "markdown",
      "source": [
        "# Q7 - Confidence Interval"
      ],
      "metadata": {
        "id": "aHiftc_wACpU"
      }
    },
    {
      "cell_type": "code",
      "source": [
        "p = 0.45\n",
        "se = 0.012\n",
        "z = 1.96\n",
        "\n",
        "lower_limit = p - se*z\n",
        "upper_limit = p + se*z\n",
        "\n",
        "print(lower_limit,upper_limit)"
      ],
      "metadata": {
        "colab": {
          "base_uri": "https://localhost:8080/"
        },
        "id": "2P2MZJfMS73s",
        "outputId": "fc17b211-a638-45a0-fb9a-efd969a80704"
      },
      "execution_count": null,
      "outputs": [
        {
          "output_type": "stream",
          "name": "stdout",
          "text": [
            "0.42648 0.47352\n"
          ]
        }
      ]
    },
    {
      "cell_type": "code",
      "source": [
        "import scipy\n",
        "\n",
        "p = 0.45\n",
        "se = 0.012\n",
        "ci = 0.95\n",
        "\n",
        "scipy.stats.norm.interval(ci, p, se)"
      ],
      "metadata": {
        "colab": {
          "base_uri": "https://localhost:8080/"
        },
        "id": "w6TqGDvrBKNk",
        "outputId": "4bfec845-71de-4796-fc1a-c54a11641421"
      },
      "execution_count": null,
      "outputs": [
        {
          "output_type": "execute_result",
          "data": {
            "text/plain": [
              "(0.42648043218551934, 0.4735195678144807)"
            ]
          },
          "metadata": {},
          "execution_count": 19
        }
      ]
    },
    {
      "cell_type": "markdown",
      "source": [
        "# Miscellaneous\n"
      ],
      "metadata": {
        "id": "DbXGHceEgTLH"
      }
    },
    {
      "cell_type": "code",
      "source": [
        "import math\n",
        "\n",
        "# Any X choose 0 will result in 1\n",
        "result = math.comb(11, 0)\n",
        "print(result)"
      ],
      "metadata": {
        "id": "HMEC-2Cf56BV",
        "colab": {
          "base_uri": "https://localhost:8080/"
        },
        "outputId": "a38117c2-a8b3-4305-9929-ac4b3c414668"
      },
      "execution_count": null,
      "outputs": [
        {
          "output_type": "stream",
          "name": "stdout",
          "text": [
            "1\n"
          ]
        }
      ]
    },
    {
      "cell_type": "code",
      "source": [
        "math.comb(9, 2)"
      ],
      "metadata": {
        "colab": {
          "base_uri": "https://localhost:8080/"
        },
        "id": "aiprQQoeaRGH",
        "outputId": "7ecb3d90-fbb6-476d-cce7-bc8712421580"
      },
      "execution_count": null,
      "outputs": [
        {
          "output_type": "execute_result",
          "data": {
            "text/plain": [
              "36"
            ]
          },
          "metadata": {},
          "execution_count": 30
        }
      ]
    }
  ]
}