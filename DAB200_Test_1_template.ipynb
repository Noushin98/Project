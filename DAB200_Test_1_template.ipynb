{
  "nbformat": 4,
  "nbformat_minor": 0,
  "metadata": {
    "colab": {
      "provenance": [],
      "include_colab_link": true
    },
    "kernelspec": {
      "name": "python3",
      "display_name": "Python 3"
    },
    "language_info": {
      "name": "python"
    }
  },
  "cells": [
    {
      "cell_type": "markdown",
      "metadata": {
        "id": "view-in-github",
        "colab_type": "text"
      },
      "source": [
        "<a href=\"https://colab.research.google.com/github/Noushin98/Project/blob/main/DAB200_Test_1_template.ipynb\" target=\"_parent\"><img src=\"https://colab.research.google.com/assets/colab-badge.svg\" alt=\"Open In Colab\"/></a>"
      ]
    },
    {
      "cell_type": "markdown",
      "source": [
        "## Sign-in\n",
        "\n",
        "In order to run code, you will need to sign-in to your Google account using the button in the top-righthand corner. "
      ],
      "metadata": {
        "id": "6x1Unu096Sjl"
      }
    },
    {
      "cell_type": "markdown",
      "source": [
        "## Execute code\n",
        "\n",
        "Once you have signed in, you should be able to execute the code below (and any other code you wish to try out!) without error. "
      ],
      "metadata": {
        "id": "1q1yFQqd6gUo"
      }
    },
    {
      "cell_type": "code",
      "source": [
        "import numpy as np\n",
        "from numpy.random import default_rng"
      ],
      "metadata": {
        "id": "gUUl4hOS6oiH"
      },
      "execution_count": 1,
      "outputs": []
    },
    {
      "cell_type": "code",
      "source": [
        "rng = default_rng()\n",
        "rng.integers(low=-10, high=10, size=(5, 3))"
      ],
      "metadata": {
        "id": "6gvU9XDphOMr",
        "outputId": "b3cd8f04-04ef-4bed-832d-d0ef7d3e7153",
        "colab": {
          "base_uri": "https://localhost:8080/"
        }
      },
      "execution_count": 2,
      "outputs": [
        {
          "output_type": "execute_result",
          "data": {
            "text/plain": [
              "array([[ -8,   7,   7],\n",
              "       [ -5,   3,   0],\n",
              "       [ -2,   2,   2],\n",
              "       [  0, -10,   9],\n",
              "       [  3,  -9,   3]])"
            ]
          },
          "metadata": {},
          "execution_count": 2
        }
      ]
    },
    {
      "cell_type": "code",
      "source": [],
      "metadata": {
        "id": "DSshv_0cUou4"
      },
      "execution_count": null,
      "outputs": []
    },
    {
      "cell_type": "code",
      "source": [],
      "metadata": {
        "id": "AoB2NaqJY7us"
      },
      "execution_count": null,
      "outputs": []
    }
  ]
}